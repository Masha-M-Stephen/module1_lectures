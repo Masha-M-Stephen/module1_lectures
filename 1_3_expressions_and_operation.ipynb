{
  "nbformat": 4,
  "nbformat_minor": 0,
  "metadata": {
    "anaconda-cloud": {},
    "celltoolbar": "Slideshow",
    "kernelspec": {
      "display_name": "Python 3",
      "language": "python",
      "name": "python3"
    },
    "language_info": {
      "codemirror_mode": {
        "name": "ipython",
        "version": 3
      },
      "file_extension": ".py",
      "mimetype": "text/x-python",
      "name": "python",
      "nbconvert_exporter": "python",
      "pygments_lexer": "ipython3",
      "version": "3.7.2"
    },
    "nbpresent": {
      "slides": {
        "d8cfa8b7-18e5-4d2f-8e92-8164c8bfad3b": {
          "id": "d8cfa8b7-18e5-4d2f-8e92-8164c8bfad3b",
          "prev": null,
          "regions": {
            "81231d63-4899-45f2-b382-fabf4f762896": {
              "attrs": {
                "height": 0.8,
                "width": 0.45,
                "x": 0.5,
                "y": 0.1
              },
              "id": "81231d63-4899-45f2-b382-fabf4f762896"
            },
            "b40d103d-8d7f-44de-8fca-19b2f9861cdd": {
              "attrs": {
                "height": 0.8,
                "width": 0.45,
                "x": 0.05,
                "y": 0.1
              },
              "id": "b40d103d-8d7f-44de-8fca-19b2f9861cdd"
            }
          }
        }
      },
      "themes": {}
    },
    "colab": {
      "name": "1_3_expressions_and_operation.ipynb",
      "provenance": [],
      "include_colab_link": true
    }
  },
  "cells": [
    {
      "cell_type": "markdown",
      "metadata": {
        "id": "view-in-github",
        "colab_type": "text"
      },
      "source": [
        "<a href=\"https://colab.research.google.com/github/Masha-M-Stephen/module1_lectures/blob/master/1_3_expressions_and_operation.ipynb\" target=\"_parent\"><img src=\"https://colab.research.google.com/assets/colab-badge.svg\" alt=\"Open In Colab\"/></a>"
      ]
    },
    {
      "cell_type": "markdown",
      "metadata": {
        "nbpresent": {
          "id": "72b0ede6-af2b-41e9-81af-16c345e658d3"
        },
        "id": "0fMyyAW_1JaQ",
        "colab_type": "text"
      },
      "source": [
        "# Expressions and Functions\n",
        "\n",
        "## Objectives\n",
        "\n",
        "1. Introduce basic Python expressions for transforming data\n",
        "    1. Arithmetic\n",
        "    2. Boolean\n",
        "2. Use the conditional expression for situational expressions"
      ]
    },
    {
      "cell_type": "markdown",
      "metadata": {
        "nbpresent": {
          "id": "d6ce38da-dd5e-49ae-96d9-a13b7c588c7f"
        },
        "id": "5XDCnHef1JaQ",
        "colab_type": "text"
      },
      "source": [
        "## Expressions and Statements\n",
        "\n",
        "* Two types of Python code\n",
        "* **statements** \"Do this\"\n",
        "    * Does not return/evaluate to a value\n",
        "    * Often contain expressions\n",
        "* **expressions** \"Compute this value\"\n",
        "    * Allows returns data\n",
        "* I prefer expressions"
      ]
    },
    {
      "cell_type": "code",
      "metadata": {
        "nbpresent": {
          "id": "3394c082-f660-4228-8b52-a46f2e9c02de"
        },
        "id": "pnTkr4MY1JaR",
        "colab_type": "code",
        "colab": {
          "base_uri": "https://localhost:8080/",
          "height": 34
        },
        "outputId": "1673a8fa-30ac-45ef-8f49-ca134864aa43"
      },
      "source": [
        "sum([1,2,3]) # expression (returns 6)"
      ],
      "execution_count": 49,
      "outputs": [
        {
          "output_type": "execute_result",
          "data": {
            "text/plain": [
              "6"
            ]
          },
          "metadata": {
            "tags": []
          },
          "execution_count": 49
        }
      ]
    },
    {
      "cell_type": "code",
      "metadata": {
        "nbpresent": {
          "id": "348801b9-66cf-4248-81c6-32b52ca127e8"
        },
        "id": "aDLldjgY1JaV",
        "colab_type": "code",
        "colab": {}
      },
      "source": [
        "x = sum([1,2,3]) # assignment statement (no value)"
      ],
      "execution_count": 50,
      "outputs": []
    },
    {
      "cell_type": "code",
      "metadata": {
        "nbpresent": {
          "id": "5b62bd9c-ca01-40c1-9913-e2c73f9188f6"
        },
        "id": "ZJz2ugAS1JaZ",
        "colab_type": "code",
        "colab": {
          "base_uri": "https://localhost:8080/",
          "height": 34
        },
        "outputId": "df1cf250-125e-4ace-a409-f79d03f641b5"
      },
      "source": [
        "x # Expression (returns value assigned to x)"
      ],
      "execution_count": 51,
      "outputs": [
        {
          "output_type": "execute_result",
          "data": {
            "text/plain": [
              "6"
            ]
          },
          "metadata": {
            "tags": []
          },
          "execution_count": 51
        }
      ]
    },
    {
      "cell_type": "markdown",
      "metadata": {
        "nbpresent": {
          "id": "277549e7-ddfe-439c-b7dc-4e257ff97426"
        },
        "id": "gSlVTV_Y1Jab",
        "colab_type": "text"
      },
      "source": [
        "## Arithmetic operations"
      ]
    },
    {
      "cell_type": "code",
      "metadata": {
        "nbpresent": {
          "id": "de77acd8-a6ab-4026-9378-05a77c73ed46"
        },
        "id": "_GMvmaLs1Jad",
        "colab_type": "code",
        "colab": {
          "base_uri": "https://localhost:8080/",
          "height": 34
        },
        "outputId": "a60ff81a-1822-4f88-853f-82f08c75a5a2"
      },
      "source": [
        "2 + 3.5"
      ],
      "execution_count": 52,
      "outputs": [
        {
          "output_type": "execute_result",
          "data": {
            "text/plain": [
              "5.5"
            ]
          },
          "metadata": {
            "tags": []
          },
          "execution_count": 52
        }
      ]
    },
    {
      "cell_type": "code",
      "metadata": {
        "nbpresent": {
          "id": "9b572828-abc5-4f12-9f11-d444f1488019"
        },
        "id": "-dqZQylD1Jag",
        "colab_type": "code",
        "colab": {
          "base_uri": "https://localhost:8080/",
          "height": 34
        },
        "outputId": "09195f84-9a91-4aa3-ecf9-54e84e990c32"
      },
      "source": [
        "2 - 3.5 "
      ],
      "execution_count": 53,
      "outputs": [
        {
          "output_type": "execute_result",
          "data": {
            "text/plain": [
              "-1.5"
            ]
          },
          "metadata": {
            "tags": []
          },
          "execution_count": 53
        }
      ]
    },
    {
      "cell_type": "code",
      "metadata": {
        "nbpresent": {
          "id": "f14f2894-1b57-4dec-8eaf-72364fb0ec22"
        },
        "id": "fLUM5I3L1Jai",
        "colab_type": "code",
        "colab": {
          "base_uri": "https://localhost:8080/",
          "height": 34
        },
        "outputId": "33c4c78a-5934-47f4-8e26-1c92e7ed26fa"
      },
      "source": [
        "2*3.5"
      ],
      "execution_count": 54,
      "outputs": [
        {
          "output_type": "execute_result",
          "data": {
            "text/plain": [
              "7.0"
            ]
          },
          "metadata": {
            "tags": []
          },
          "execution_count": 54
        }
      ]
    },
    {
      "cell_type": "code",
      "metadata": {
        "nbpresent": {
          "id": "0283e446-51ff-49c6-95c1-7df0331373e8"
        },
        "id": "o3v_a9bo1Jal",
        "colab_type": "code",
        "colab": {
          "base_uri": "https://localhost:8080/",
          "height": 34
        },
        "outputId": "4b245d2d-eda2-41e6-97b5-ccb60811b572"
      },
      "source": [
        "2/3 # True division"
      ],
      "execution_count": 55,
      "outputs": [
        {
          "output_type": "execute_result",
          "data": {
            "text/plain": [
              "0.6666666666666666"
            ]
          },
          "metadata": {
            "tags": []
          },
          "execution_count": 55
        }
      ]
    },
    {
      "cell_type": "code",
      "metadata": {
        "nbpresent": {
          "id": "1cbfb777-d4fa-4364-8b4d-7316398849d2"
        },
        "id": "ECVRhiPp1Jar",
        "colab_type": "code",
        "colab": {
          "base_uri": "https://localhost:8080/",
          "height": 34
        },
        "outputId": "d7446b21-64c4-44cf-f0da-c9b03ec93c88"
      },
      "source": [
        "10//3 # Integeer division"
      ],
      "execution_count": 56,
      "outputs": [
        {
          "output_type": "execute_result",
          "data": {
            "text/plain": [
              "3"
            ]
          },
          "metadata": {
            "tags": []
          },
          "execution_count": 56
        }
      ]
    },
    {
      "cell_type": "code",
      "metadata": {
        "nbpresent": {
          "id": "5eb71879-541d-4d2f-8d0b-03b1936784be"
        },
        "id": "NkxAVa9p1Jat",
        "colab_type": "code",
        "colab": {
          "base_uri": "https://localhost:8080/",
          "height": 34
        },
        "outputId": "15e626a8-f325-4bed-af1c-bb62fc22e951"
      },
      "source": [
        "10 % 3 # Mod/remainder"
      ],
      "execution_count": 57,
      "outputs": [
        {
          "output_type": "execute_result",
          "data": {
            "text/plain": [
              "1"
            ]
          },
          "metadata": {
            "tags": []
          },
          "execution_count": 57
        }
      ]
    },
    {
      "cell_type": "markdown",
      "metadata": {
        "id": "HRmF3bCn1Jav",
        "colab_type": "text"
      },
      "source": [
        "<font color=\"red\"><h2>Exercise</h2></font>\n",
        "\n",
        "The hour hand is pointing at 8, what will it point to in 57 hours?"
      ]
    },
    {
      "cell_type": "code",
      "metadata": {
        "id": "Bl3RWCDitrSi",
        "colab_type": "code",
        "colab": {
          "base_uri": "https://localhost:8080/",
          "height": 34
        },
        "outputId": "aef88b81-94f4-4ee4-824c-db4bb6106908"
      },
      "source": [
        "(8+57)%12"
      ],
      "execution_count": 58,
      "outputs": [
        {
          "output_type": "execute_result",
          "data": {
            "text/plain": [
              "5"
            ]
          },
          "metadata": {
            "tags": []
          },
          "execution_count": 58
        }
      ]
    },
    {
      "cell_type": "code",
      "metadata": {
        "nbpresent": {
          "id": "d2f5f5a1-1f01-4036-8bdb-c9dd4f3a6999"
        },
        "id": "LgAPEn3V1Jax",
        "colab_type": "code",
        "colab": {
          "base_uri": "https://localhost:8080/",
          "height": 34
        },
        "outputId": "be77f665-a9dc-46f7-ec6b-71fd6bab892c"
      },
      "source": [
        "2 ** 3 # Powers!"
      ],
      "execution_count": 59,
      "outputs": [
        {
          "output_type": "execute_result",
          "data": {
            "text/plain": [
              "8"
            ]
          },
          "metadata": {
            "tags": []
          },
          "execution_count": 59
        }
      ]
    },
    {
      "cell_type": "code",
      "metadata": {
        "nbpresent": {
          "id": "f79150cf-6794-48bb-b703-eb963b40cc06"
        },
        "id": "od686BsB1Ja0",
        "colab_type": "code",
        "colab": {
          "base_uri": "https://localhost:8080/",
          "height": 34
        },
        "outputId": "aba09e3b-0e44-4a12-edad-b30f4e988f1c"
      },
      "source": [
        "2 ^ 3 # BEWARE: bitwise exclusive or"
      ],
      "execution_count": 60,
      "outputs": [
        {
          "output_type": "execute_result",
          "data": {
            "text/plain": [
              "1"
            ]
          },
          "metadata": {
            "tags": []
          },
          "execution_count": 60
        }
      ]
    },
    {
      "cell_type": "markdown",
      "metadata": {
        "nbpresent": {
          "id": "a9702cc1-1da0-4d6b-8198-835ac55fd9eb"
        },
        "id": "Ch88kMYg1Ja2",
        "colab_type": "text"
      },
      "source": [
        "### <font color=\"red\"> Exercise 1</font>\n",
        "Investigate which operations can be applied to two strings, say `\"a\"` and `\"b\"`.\n"
      ]
    },
    {
      "cell_type": "code",
      "metadata": {
        "nbpresent": {
          "id": "78a2f194-f4ff-466a-8921-7012b6d551b0"
        },
        "id": "-MoHuHy01Ja3",
        "colab_type": "code",
        "colab": {
          "base_uri": "https://localhost:8080/",
          "height": 162
        },
        "outputId": "ea7ea766-6838-4ce4-813e-700523627c1e"
      },
      "source": [
        "a-b"
      ],
      "execution_count": 61,
      "outputs": [
        {
          "output_type": "error",
          "ename": "NameError",
          "evalue": "ignored",
          "traceback": [
            "\u001b[0;31m---------------------------------------------------------------------------\u001b[0m",
            "\u001b[0;31mNameError\u001b[0m                                 Traceback (most recent call last)",
            "\u001b[0;32m<ipython-input-61-5ae0619f8fe1>\u001b[0m in \u001b[0;36m<module>\u001b[0;34m()\u001b[0m\n\u001b[0;32m----> 1\u001b[0;31m \u001b[0ma\u001b[0m\u001b[0;34m-\u001b[0m\u001b[0mb\u001b[0m\u001b[0;34m\u001b[0m\u001b[0;34m\u001b[0m\u001b[0m\n\u001b[0m",
            "\u001b[0;31mNameError\u001b[0m: name 'a' is not defined"
          ]
        }
      ]
    },
    {
      "cell_type": "markdown",
      "metadata": {
        "id": "me2QtkdfuPAt",
        "colab_type": "text"
      },
      "source": [
        "strings cannot be subtracted"
      ]
    },
    {
      "cell_type": "code",
      "metadata": {
        "id": "W9Pfgqwi36ws",
        "colab_type": "code",
        "colab": {
          "base_uri": "https://localhost:8080/",
          "height": 35
        },
        "outputId": "69362bde-64c1-406b-d225-293ea3177f47"
      },
      "source": [
        "\"a\"+\"b\""
      ],
      "execution_count": 62,
      "outputs": [
        {
          "output_type": "execute_result",
          "data": {
            "application/vnd.google.colaboratory.intrinsic+json": {
              "type": "string"
            },
            "text/plain": [
              "'ab'"
            ]
          },
          "metadata": {
            "tags": []
          },
          "execution_count": 62
        }
      ]
    },
    {
      "cell_type": "code",
      "metadata": {
        "id": "pMHhf7n24hfW",
        "colab_type": "code",
        "colab": {
          "base_uri": "https://localhost:8080/",
          "height": 162
        },
        "outputId": "d8204968-b4b1-4e05-d57e-812944922081"
      },
      "source": [
        "'a' ** 'b' # can not multiply strings"
      ],
      "execution_count": 63,
      "outputs": [
        {
          "output_type": "error",
          "ename": "TypeError",
          "evalue": "ignored",
          "traceback": [
            "\u001b[0;31m---------------------------------------------------------------------------\u001b[0m",
            "\u001b[0;31mTypeError\u001b[0m                                 Traceback (most recent call last)",
            "\u001b[0;32m<ipython-input-63-fe79ce677860>\u001b[0m in \u001b[0;36m<module>\u001b[0;34m()\u001b[0m\n\u001b[0;32m----> 1\u001b[0;31m \u001b[0;34m'a'\u001b[0m \u001b[0;34m**\u001b[0m \u001b[0;34m'b'\u001b[0m \u001b[0;31m# can not multiply strings\u001b[0m\u001b[0;34m\u001b[0m\u001b[0;34m\u001b[0m\u001b[0m\n\u001b[0m",
            "\u001b[0;31mTypeError\u001b[0m: unsupported operand type(s) for ** or pow(): 'str' and 'str'"
          ]
        }
      ]
    },
    {
      "cell_type": "markdown",
      "metadata": {
        "nbpresent": {
          "id": "2812ca09-3cd1-43c1-aefd-05fbea612c57"
        },
        "id": "fmA_LRNx1Ja8",
        "colab_type": "text"
      },
      "source": [
        "### <font color=\"red\"> Exercise 2 </font>\n",
        "\n",
        "Investigate various operations on `2` and `\"a\"`"
      ]
    },
    {
      "cell_type": "code",
      "metadata": {
        "nbpresent": {
          "id": "c5667754-7de7-401f-989b-88c209c6ea82"
        },
        "id": "P-BeOH9E1Ja8",
        "colab_type": "code",
        "colab": {
          "base_uri": "https://localhost:8080/",
          "height": 162
        },
        "outputId": "02e634e6-9331-4c99-eff0-f6c7394f7bba"
      },
      "source": [
        "2 + \"a\""
      ],
      "execution_count": 64,
      "outputs": [
        {
          "output_type": "error",
          "ename": "TypeError",
          "evalue": "ignored",
          "traceback": [
            "\u001b[0;31m---------------------------------------------------------------------------\u001b[0m",
            "\u001b[0;31mTypeError\u001b[0m                                 Traceback (most recent call last)",
            "\u001b[0;32m<ipython-input-64-03b0bc6ba911>\u001b[0m in \u001b[0;36m<module>\u001b[0;34m()\u001b[0m\n\u001b[0;32m----> 1\u001b[0;31m \u001b[0;36m2\u001b[0m \u001b[0;34m+\u001b[0m \u001b[0;34m\"a\"\u001b[0m\u001b[0;34m\u001b[0m\u001b[0;34m\u001b[0m\u001b[0m\n\u001b[0m",
            "\u001b[0;31mTypeError\u001b[0m: unsupported operand type(s) for +: 'int' and 'str'"
          ]
        }
      ]
    },
    {
      "cell_type": "code",
      "metadata": {
        "id": "53DP-u3r4Hty",
        "colab_type": "code",
        "colab": {
          "base_uri": "https://localhost:8080/",
          "height": 35
        },
        "outputId": "5233aeeb-db33-41f2-b8c0-93c07542983b"
      },
      "source": [
        "2 * \"a\" # this wont work because of the different data types"
      ],
      "execution_count": 65,
      "outputs": [
        {
          "output_type": "execute_result",
          "data": {
            "application/vnd.google.colaboratory.intrinsic+json": {
              "type": "string"
            },
            "text/plain": [
              "'aa'"
            ]
          },
          "metadata": {
            "tags": []
          },
          "execution_count": 65
        }
      ]
    },
    {
      "cell_type": "markdown",
      "metadata": {
        "nbpresent": {
          "id": "451809fa-bae8-406f-8485-e14666da2f9c"
        },
        "id": "-kM9rzO61JbA",
        "colab_type": "text"
      },
      "source": [
        "## Boolean operations\n",
        "\n",
        "- **Boolean expressions** evaluate to True or False\n",
        "- **Boolean operations** answer Yes/No questions"
      ]
    },
    {
      "cell_type": "markdown",
      "metadata": {
        "nbpresent": {
          "id": "a7d93c7f-e613-436d-8ea2-f8eabf37aca1"
        },
        "id": "TgWbI0vm1JbA",
        "colab_type": "text"
      },
      "source": [
        "## Comparison operators"
      ]
    },
    {
      "cell_type": "code",
      "metadata": {
        "nbpresent": {
          "id": "9ba65652-2b58-4adc-bb1b-ca556743e198"
        },
        "id": "VCbzWLxM1JbB",
        "colab_type": "code",
        "colab": {
          "base_uri": "https://localhost:8080/",
          "height": 34
        },
        "outputId": "7f312d64-5af6-4522-f225-53e19033cb73"
      },
      "source": [
        "(2 == 3, 2 < 3, 2 <= 3, 2 != 3)"
      ],
      "execution_count": 66,
      "outputs": [
        {
          "output_type": "execute_result",
          "data": {
            "text/plain": [
              "(False, True, True, True)"
            ]
          },
          "metadata": {
            "tags": []
          },
          "execution_count": 66
        }
      ]
    },
    {
      "cell_type": "markdown",
      "metadata": {
        "nbpresent": {
          "id": "f2db4d92-a6dc-4ce4-973b-623addee60f5"
        },
        "id": "CsfGp9gl1JbH",
        "colab_type": "text"
      },
      "source": [
        "## Container operations"
      ]
    },
    {
      "cell_type": "code",
      "metadata": {
        "nbpresent": {
          "id": "cc07079e-46cf-4b24-8240-0c8f356cf384"
        },
        "id": "jflHdH9_1JbI",
        "colab_type": "code",
        "colab": {
          "base_uri": "https://localhost:8080/",
          "height": 34
        },
        "outputId": "e047263e-1cae-4f07-de0b-e416c8a89ebe"
      },
      "source": [
        "2 in [1,2,3]"
      ],
      "execution_count": 67,
      "outputs": [
        {
          "output_type": "execute_result",
          "data": {
            "text/plain": [
              "True"
            ]
          },
          "metadata": {
            "tags": []
          },
          "execution_count": 67
        }
      ]
    },
    {
      "cell_type": "code",
      "metadata": {
        "nbpresent": {
          "id": "98dc4cf4-0de9-45ac-8056-a6bb98506321"
        },
        "id": "D9lGOyxZ1JbL",
        "colab_type": "code",
        "colab": {}
      },
      "source": [
        "\"a\" in \"Todd\""
      ],
      "execution_count": null,
      "outputs": []
    },
    {
      "cell_type": "code",
      "metadata": {
        "nbpresent": {
          "id": "de82634e-c310-4316-8db0-1bef201414b6"
        },
        "id": "pZ_PwnmF1JbN",
        "colab_type": "code",
        "colab": {
          "base_uri": "https://localhost:8080/",
          "height": 34
        },
        "outputId": "ae2f18c3-f97a-47b9-c4e5-3ddf76d6b239"
      },
      "source": [
        "\"t\" not in \"Todd\""
      ],
      "execution_count": 68,
      "outputs": [
        {
          "output_type": "execute_result",
          "data": {
            "text/plain": [
              "True"
            ]
          },
          "metadata": {
            "tags": []
          },
          "execution_count": 68
        }
      ]
    },
    {
      "cell_type": "code",
      "metadata": {
        "nbpresent": {
          "id": "b23fc6af-c8e8-4f21-bfc3-64448f3d209d"
        },
        "scrolled": true,
        "id": "LAxMJajk1JbP",
        "colab_type": "code",
        "colab": {
          "base_uri": "https://localhost:8080/",
          "height": 34
        },
        "outputId": "8e39903d-966f-4bc9-a7ea-286454fd9a76"
      },
      "source": [
        "2 in [1, [2, 3]]"
      ],
      "execution_count": 69,
      "outputs": [
        {
          "output_type": "execute_result",
          "data": {
            "text/plain": [
              "False"
            ]
          },
          "metadata": {
            "tags": []
          },
          "execution_count": 69
        }
      ]
    },
    {
      "cell_type": "markdown",
      "metadata": {
        "nbpresent": {
          "id": "a9702cc1-1da0-4d6b-8198-835ac55fd9eb"
        },
        "id": "TjPsY3OX1JbR",
        "colab_type": "text"
      },
      "source": [
        "### <font color=\"red\"> Exercise 3</font>\n",
        "\n",
        "Why does `2 in [1, [2, 3]]` to `False`?\n"
      ]
    },
    {
      "cell_type": "markdown",
      "metadata": {
        "id": "0CViiy8i1JbR",
        "colab_type": "text"
      },
      "source": [
        "because 2 is an int and is presented as a list. types dont much."
      ]
    },
    {
      "cell_type": "markdown",
      "metadata": {
        "nbpresent": {
          "id": "8fb5d98c-6b7c-4ffb-8c28-ac5f7a055f1a"
        },
        "id": "3rFe9Yx21JbS",
        "colab_type": "text"
      },
      "source": [
        "## Combining boolean expressions\n",
        "\n",
        "- Use `and`, `or`, and `not`"
      ]
    },
    {
      "cell_type": "code",
      "metadata": {
        "nbpresent": {
          "id": "5b47746d-6823-4b18-bd0a-e87df90e01e7"
        },
        "id": "5KMCdtEB1JbS",
        "colab_type": "code",
        "colab": {
          "base_uri": "https://localhost:8080/",
          "height": 34
        },
        "outputId": "89cfcffa-593b-457d-9e6a-0f4299a959bf"
      },
      "source": [
        "x, name = 5, \"Todd\"\n",
        "x % 2 == 1 and \"a\" in \"Todd\""
      ],
      "execution_count": 70,
      "outputs": [
        {
          "output_type": "execute_result",
          "data": {
            "text/plain": [
              "False"
            ]
          },
          "metadata": {
            "tags": []
          },
          "execution_count": 70
        }
      ]
    },
    {
      "cell_type": "code",
      "metadata": {
        "nbpresent": {
          "id": "298c54dc-9124-4201-beef-67b6d98b4633"
        },
        "id": "sptQKtTi1JbU",
        "colab_type": "code",
        "colab": {
          "base_uri": "https://localhost:8080/",
          "height": 34
        },
        "outputId": "99174558-8911-48fb-a3d9-a8d40d2dccb4"
      },
      "source": [
        "x % 2 == 1 or \"a\" in \"Todd\""
      ],
      "execution_count": 71,
      "outputs": [
        {
          "output_type": "execute_result",
          "data": {
            "text/plain": [
              "True"
            ]
          },
          "metadata": {
            "tags": []
          },
          "execution_count": 71
        }
      ]
    },
    {
      "cell_type": "code",
      "metadata": {
        "nbpresent": {
          "id": "ae43d805-5f59-4823-bbde-cb86bae63461"
        },
        "id": "MqQhHafl1JbW",
        "colab_type": "code",
        "colab": {
          "base_uri": "https://localhost:8080/",
          "height": 34
        },
        "outputId": "1d9a019e-3c62-4efe-b18b-56b96994898c"
      },
      "source": [
        "not 2 < 3"
      ],
      "execution_count": 72,
      "outputs": [
        {
          "output_type": "execute_result",
          "data": {
            "text/plain": [
              "False"
            ]
          },
          "metadata": {
            "tags": []
          },
          "execution_count": 72
        }
      ]
    },
    {
      "cell_type": "markdown",
      "metadata": {
        "id": "5SGpEtFx1JbY",
        "colab_type": "text"
      },
      "source": [
        "## Conditional Expression\n",
        "\n",
        "* Syntax:"
      ]
    },
    {
      "cell_type": "code",
      "metadata": {
        "id": "xpth1wwh1JbZ",
        "colab_type": "code",
        "colab": {
          "base_uri": "https://localhost:8080/",
          "height": 162
        },
        "outputId": "0514348d-5d42-46c6-8128-85e131ec633c"
      },
      "source": [
        "true_val if boolean_condition else false_value"
      ],
      "execution_count": 73,
      "outputs": [
        {
          "output_type": "error",
          "ename": "NameError",
          "evalue": "ignored",
          "traceback": [
            "\u001b[0;31m---------------------------------------------------------------------------\u001b[0m",
            "\u001b[0;31mNameError\u001b[0m                                 Traceback (most recent call last)",
            "\u001b[0;32m<ipython-input-73-3ae810e1a1d8>\u001b[0m in \u001b[0;36m<module>\u001b[0;34m()\u001b[0m\n\u001b[0;32m----> 1\u001b[0;31m \u001b[0mtrue_val\u001b[0m \u001b[0;32mif\u001b[0m \u001b[0mboolean_condition\u001b[0m \u001b[0;32melse\u001b[0m \u001b[0mfalse_value\u001b[0m\u001b[0;34m\u001b[0m\u001b[0;34m\u001b[0m\u001b[0m\n\u001b[0m",
            "\u001b[0;31mNameError\u001b[0m: name 'boolean_condition' is not defined"
          ]
        }
      ]
    },
    {
      "cell_type": "code",
      "metadata": {
        "id": "NLOYtw1C1Jbb",
        "colab_type": "code",
        "colab": {
          "base_uri": "https://localhost:8080/",
          "height": 35
        },
        "outputId": "f949ba68-5ce6-40d1-9f05-abfb358684e5"
      },
      "source": [
        "\"Has t\" if \"t\" in \"Todd\" else \"No t\""
      ],
      "execution_count": 74,
      "outputs": [
        {
          "output_type": "execute_result",
          "data": {
            "application/vnd.google.colaboratory.intrinsic+json": {
              "type": "string"
            },
            "text/plain": [
              "'No t'"
            ]
          },
          "metadata": {
            "tags": []
          },
          "execution_count": 74
        }
      ]
    },
    {
      "cell_type": "markdown",
      "metadata": {
        "id": "mTHd69hr1Jbe",
        "colab_type": "text"
      },
      "source": [
        "## Evaluating the conditional expression\n",
        "\n",
        "<img src=\"https://github.com/Masha-M-Stephen/module1_lectures/blob/master/img/cond_expr_1.png?raw=1\" width=400 />"
      ]
    },
    {
      "cell_type": "markdown",
      "metadata": {
        "nbpresent": {
          "id": "a9702cc1-1da0-4d6b-8198-835ac55fd9eb"
        },
        "id": "5_hnjgm31Jbe",
        "colab_type": "text"
      },
      "source": [
        "### <font color=\"red\"> Exercise 4</font>\n",
        "\n",
        "Evaluate `\"Yes\" if (5 <= x < 10) and (x % 2 == 1) else \"No\"`\n",
        "\n",
        "1. By hand\n",
        "2. With Python\n"
      ]
    },
    {
      "cell_type": "markdown",
      "metadata": {
        "id": "N9gQMoqu1Jbe",
        "colab_type": "text"
      },
      "source": [
        "[link text](https://)1. Evaluate by hand: x =5 so Yes."
      ]
    },
    {
      "cell_type": "code",
      "metadata": {
        "id": "0gg66yUz1Jbf",
        "colab_type": "code",
        "colab": {
          "base_uri": "https://localhost:8080/",
          "height": 35
        },
        "outputId": "f59fcdbe-b069-40e6-ba55-05d0e592bf47"
      },
      "source": [
        "# Evaluate with Python\n",
        "x = 6.1\n",
        "\"Yes\" if (5 <= x < 10) and (x % 2 == 1) else \"No\""
      ],
      "execution_count": 75,
      "outputs": [
        {
          "output_type": "execute_result",
          "data": {
            "application/vnd.google.colaboratory.intrinsic+json": {
              "type": "string"
            },
            "text/plain": [
              "'No'"
            ]
          },
          "metadata": {
            "tags": []
          },
          "execution_count": 75
        }
      ]
    },
    {
      "cell_type": "code",
      "metadata": {
        "id": "Fq0vRwhJ1Jbh",
        "colab_type": "code",
        "colab": {
          "base_uri": "https://localhost:8080/",
          "height": 34
        },
        "outputId": "2cf58e42-dfb2-478a-d14a-9e13f831d227"
      },
      "source": [
        "x % 2 "
      ],
      "execution_count": 76,
      "outputs": [
        {
          "output_type": "execute_result",
          "data": {
            "text/plain": [
              "0.09999999999999964"
            ]
          },
          "metadata": {
            "tags": []
          },
          "execution_count": 76
        }
      ]
    },
    {
      "cell_type": "code",
      "metadata": {
        "id": "KrklM37X1Jbj",
        "colab_type": "code",
        "colab": {
          "base_uri": "https://localhost:8080/",
          "height": 35
        },
        "outputId": "18a270a5-00b6-40d9-a0a6-413b1f85ea35"
      },
      "source": [
        "X=5\n",
        "\"Yes\" if (5 <= x < 10) and (x % 2 == 1) else \"No\""
      ],
      "execution_count": 77,
      "outputs": [
        {
          "output_type": "execute_result",
          "data": {
            "application/vnd.google.colaboratory.intrinsic+json": {
              "type": "string"
            },
            "text/plain": [
              "'No'"
            ]
          },
          "metadata": {
            "tags": []
          },
          "execution_count": 77
        }
      ]
    }
  ]
}